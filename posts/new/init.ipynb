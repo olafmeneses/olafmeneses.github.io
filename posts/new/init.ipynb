{
  "cells": [
    {
      "cell_type": "raw",
      "metadata": {},
      "source": [
        "---\n",
        "title: \"What is this for?\"\n",
        "date: \"01-02-2024\"\n",
        "description: \"A brief explanation\"\n",
        "format:\n",
        "  html:\n",
        "    embed-resources: true\n",
        "---"
      ],
      "id": "0b31eb6f"
    },
    {
      "cell_type": "markdown",
      "metadata": {},
      "source": [
        "# This was a triumph! \n",
        "\n",
        "I'm making a blog here.\n",
        "\n",
        "\n",
        "```{html}\n",
        "<iframe width=\"560\" height=\"315\" src=\"https://www.youtube.com/embed/SXRteMSSZ14?si=a3KmZm8cFCfd4r0a\" title=\"YouTube video player\" frameborder=\"0\" allow=\"accelerometer; autoplay; clipboard-write; encrypted-media; gyroscope; picture-in-picture; web-share\" allowfullscreen></iframe>\n",
        "```\n",
        "\n",
        "\n",
        "# What is this blog for?\n",
        "\n",
        "This is a personal blog. _Personal_ means that I have the freedom to write about anything that interests me, and more importantly, when I like. Don't expect regular updates – this won't be a daily, weekly, or even monthly affair. This is not a newsletter. I imagine this as a shelf of personal experiences. When I finish something I've worked on and consider it meaningful, I place it on the shelf.\n",
        "\n",
        "You can also consider it as an observer's notebook. I've always considered myself a very observant person. I tend to notice details that escape the attention of the vast majority. Here, you will find the process of thought in some projects I've worked on, entries about absurd mini projects, ideas... or anything that catches up my attention. \n",
        "\n",
        "Having explained that, the question I should be asking now is...\n",
        "\n",
        "# Who am I talking to?\n",
        "\n",
        "To me, it remains unclear who am I writing this for. It\n",
        "\n",
        "\n",
        "Think of all the things we learned for the people who are still alive.\n"
      ],
      "id": "81193068"
    }
  ],
  "metadata": {
    "kernelspec": {
      "display_name": "Python 3",
      "language": "python",
      "name": "python3"
    }
  },
  "nbformat": 4,
  "nbformat_minor": 5
}